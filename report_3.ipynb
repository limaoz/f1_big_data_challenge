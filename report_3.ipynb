{
 "cells": [
  {
   "cell_type": "code",
   "execution_count": 150,
   "metadata": {},
   "outputs": [],
   "source": [
    "import pandas as pd"
   ]
  },
  {
   "cell_type": "code",
   "execution_count": 151,
   "metadata": {},
   "outputs": [],
   "source": [
    "pitstop_df = pd.read_csv('dataset/pitStops.csv')\n",
    "races_df = pd.read_csv('dataset/races.csv')\n",
    "results_df = pd.read_csv('dataset/results.csv')\n",
    "constructors_df = pd.read_csv('dataset/constructors.csv')\n",
    "drivers_df = pd.read_csv('dataset/drivers.csv', encoding='iso-8859-1')"
   ]
  },
  {
   "cell_type": "code",
   "execution_count": 152,
   "metadata": {},
   "outputs": [],
   "source": [
    "races_df = races_df.rename(columns={'time': 'time_race'})"
   ]
  },
  {
   "cell_type": "code",
   "execution_count": 153,
   "metadata": {},
   "outputs": [],
   "source": [
    "pitstop_df = pitstop_df.rename(columns={'time': 'time_pitstop', 'milliseconds':'milliseconds_pitstop'})"
   ]
  },
  {
   "cell_type": "code",
   "execution_count": 154,
   "metadata": {},
   "outputs": [],
   "source": [
    "pitstop_race_df = pd.merge(pitstop_df, races_df, on='raceId')"
   ]
  },
  {
   "cell_type": "code",
   "execution_count": 155,
   "metadata": {},
   "outputs": [],
   "source": [
    "pitstop_race_results_df = pd.merge(pitstop_race_df, results_df, on=['raceId', 'driverId'])"
   ]
  },
  {
   "cell_type": "code",
   "execution_count": 156,
   "metadata": {},
   "outputs": [],
   "source": [
    "min_pitstop_constructor_df = pitstop_race_results_df[['year','constructorId', 'driverId','milliseconds_pitstop']] \\\n",
    "            .groupby(['year', 'constructorId', 'driverId']) \\\n",
    "            .min()"
   ]
  },
  {
   "cell_type": "code",
   "execution_count": 157,
   "metadata": {},
   "outputs": [],
   "source": [
    "min_year_pitstop_index = min_pitstop_constructor_df.groupby(['year'])['milliseconds_pitstop'].transform(min) == yy['milliseconds_pitstop']"
   ]
  },
  {
   "cell_type": "code",
   "execution_count": 158,
   "metadata": {},
   "outputs": [],
   "source": [
    "report_3_df = min_pitstop_constructor_df[min_year_pitstop_index].reset_index()"
   ]
  },
  {
   "cell_type": "code",
   "execution_count": 159,
   "metadata": {},
   "outputs": [],
   "source": [
    "report_3_df = pd.merge(report_3_df, constructors_df, on='constructorId')\n",
    "report_3_df = pd.merge(report_3_df, drivers_df, on='driverId')"
   ]
  },
  {
   "cell_type": "code",
   "execution_count": 160,
   "metadata": {},
   "outputs": [],
   "source": [
    "report_3_df = report_3_df[['year', 'constructorId', 'name', 'driverId', 'forename', 'surname', 'milliseconds_pitstop']] \\\n",
    "                .sort_values('year')"
   ]
  },
  {
   "cell_type": "code",
   "execution_count": 161,
   "metadata": {},
   "outputs": [
    {
     "data": {
      "text/html": [
       "<div>\n",
       "<style scoped>\n",
       "    .dataframe tbody tr th:only-of-type {\n",
       "        vertical-align: middle;\n",
       "    }\n",
       "\n",
       "    .dataframe tbody tr th {\n",
       "        vertical-align: top;\n",
       "    }\n",
       "\n",
       "    .dataframe thead th {\n",
       "        text-align: right;\n",
       "    }\n",
       "</style>\n",
       "<table border=\"1\" class=\"dataframe\">\n",
       "  <thead>\n",
       "    <tr style=\"text-align: right;\">\n",
       "      <th></th>\n",
       "      <th>year</th>\n",
       "      <th>constructorId</th>\n",
       "      <th>name</th>\n",
       "      <th>driverId</th>\n",
       "      <th>forename</th>\n",
       "      <th>surname</th>\n",
       "      <th>milliseconds_pitstop</th>\n",
       "    </tr>\n",
       "  </thead>\n",
       "  <tbody>\n",
       "    <tr>\n",
       "      <th>0</th>\n",
       "      <td>2011</td>\n",
       "      <td>3</td>\n",
       "      <td>Williams</td>\n",
       "      <td>813</td>\n",
       "      <td>Pastor</td>\n",
       "      <td>Maldonado</td>\n",
       "      <td>12897</td>\n",
       "    </tr>\n",
       "    <tr>\n",
       "      <th>2</th>\n",
       "      <td>2012</td>\n",
       "      <td>131</td>\n",
       "      <td>Mercedes</td>\n",
       "      <td>30</td>\n",
       "      <td>Michael</td>\n",
       "      <td>Schumacher</td>\n",
       "      <td>13199</td>\n",
       "    </tr>\n",
       "    <tr>\n",
       "      <th>1</th>\n",
       "      <td>2013</td>\n",
       "      <td>3</td>\n",
       "      <td>Williams</td>\n",
       "      <td>813</td>\n",
       "      <td>Pastor</td>\n",
       "      <td>Maldonado</td>\n",
       "      <td>13266</td>\n",
       "    </tr>\n",
       "    <tr>\n",
       "      <th>3</th>\n",
       "      <td>2014</td>\n",
       "      <td>208</td>\n",
       "      <td>Lotus F1</td>\n",
       "      <td>154</td>\n",
       "      <td>Romain</td>\n",
       "      <td>Grosjean</td>\n",
       "      <td>16120</td>\n",
       "    </tr>\n",
       "    <tr>\n",
       "      <th>4</th>\n",
       "      <td>2015</td>\n",
       "      <td>1</td>\n",
       "      <td>McLaren</td>\n",
       "      <td>4</td>\n",
       "      <td>Fernando</td>\n",
       "      <td>Alonso</td>\n",
       "      <td>16128</td>\n",
       "    </tr>\n",
       "    <tr>\n",
       "      <th>5</th>\n",
       "      <td>2016</td>\n",
       "      <td>209</td>\n",
       "      <td>Manor Marussia</td>\n",
       "      <td>837</td>\n",
       "      <td>Rio</td>\n",
       "      <td>Haryanto</td>\n",
       "      <td>16218</td>\n",
       "    </tr>\n",
       "    <tr>\n",
       "      <th>6</th>\n",
       "      <td>2017</td>\n",
       "      <td>6</td>\n",
       "      <td>Ferrari</td>\n",
       "      <td>8</td>\n",
       "      <td>Kimi</td>\n",
       "      <td>RÌ_ikkÌ¦nen</td>\n",
       "      <td>14943</td>\n",
       "    </tr>\n",
       "  </tbody>\n",
       "</table>\n",
       "</div>"
      ],
      "text/plain": [
       "   year  constructorId            name  driverId  forename      surname  \\\n",
       "0  2011              3        Williams       813    Pastor    Maldonado   \n",
       "2  2012            131        Mercedes        30   Michael   Schumacher   \n",
       "1  2013              3        Williams       813    Pastor    Maldonado   \n",
       "3  2014            208        Lotus F1       154    Romain     Grosjean   \n",
       "4  2015              1         McLaren         4  Fernando       Alonso   \n",
       "5  2016            209  Manor Marussia       837       Rio     Haryanto   \n",
       "6  2017              6         Ferrari         8      Kimi  RÌ_ikkÌ¦nen   \n",
       "\n",
       "   milliseconds_pitstop  \n",
       "0                 12897  \n",
       "2                 13199  \n",
       "1                 13266  \n",
       "3                 16120  \n",
       "4                 16128  \n",
       "5                 16218  \n",
       "6                 14943  "
      ]
     },
     "execution_count": 161,
     "metadata": {},
     "output_type": "execute_result"
    }
   ],
   "source": [
    "report_3_df"
   ]
  },
  {
   "cell_type": "code",
   "execution_count": 162,
   "metadata": {},
   "outputs": [],
   "source": [
    "report_3_df.to_excel('reports/report3.xlsx', header=True, index=False)"
   ]
  }
 ],
 "metadata": {
  "kernelspec": {
   "display_name": "Python 3",
   "language": "python",
   "name": "python3"
  },
  "language_info": {
   "codemirror_mode": {
    "name": "ipython",
    "version": 3
   },
   "file_extension": ".py",
   "mimetype": "text/x-python",
   "name": "python",
   "nbconvert_exporter": "python",
   "pygments_lexer": "ipython3",
   "version": "3.5.5"
  }
 },
 "nbformat": 4,
 "nbformat_minor": 2
}
