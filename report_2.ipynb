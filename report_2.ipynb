{
 "cells": [
  {
   "cell_type": "code",
   "execution_count": 102,
   "metadata": {},
   "outputs": [],
   "source": [
    "import pandas as pd"
   ]
  },
  {
   "cell_type": "code",
   "execution_count": 103,
   "metadata": {},
   "outputs": [],
   "source": [
    "races_df = pd.read_csv('dataset/races.csv')\n",
    "results_df = pd.read_csv('dataset/results.csv')\n",
    "\n",
    "just_n_constructors = 3"
   ]
  },
  {
   "cell_type": "code",
   "execution_count": 104,
   "metadata": {},
   "outputs": [],
   "source": [
    "race_with_points_df = results_df[results_df['points'] > 0]"
   ]
  },
  {
   "cell_type": "code",
   "execution_count": 105,
   "metadata": {},
   "outputs": [],
   "source": [
    "race_constructor_group_df = race_with_points_df[['raceId', 'constructorId']] \\\n",
    "    .groupby(['raceId', 'constructorId']) \\\n",
    "    .size() \\\n",
    "    .reset_index(name='count_drivers_with_points')"
   ]
  },
  {
   "cell_type": "code",
   "execution_count": 106,
   "metadata": {},
   "outputs": [],
   "source": [
    "race_group_df = race_constructor_group_df[['raceId', 'constructorId']] \\\n",
    "    .groupby('raceId') \\\n",
    "    .size() \\\n",
    "    .reset_index(name='count_constructor')"
   ]
  },
  {
   "cell_type": "code",
   "execution_count": 107,
   "metadata": {},
   "outputs": [],
   "source": [
    "report_2_df = race_group_df[race_group_df['count_constructor'] == just_n_constructors]"
   ]
  },
  {
   "cell_type": "code",
   "execution_count": 108,
   "metadata": {},
   "outputs": [],
   "source": [
    "report_2_df = pd.merge(report_2_df, races_df, on='raceId')"
   ]
  },
  {
   "cell_type": "code",
   "execution_count": 109,
   "metadata": {},
   "outputs": [],
   "source": [
    "report_2_df = report_2_df[['raceId', 'year', 'name', 'date', 'count_constructor']] \\\n",
    "                .sort_values(['year', 'date'])"
   ]
  },
  {
   "cell_type": "code",
   "execution_count": 110,
   "metadata": {},
   "outputs": [
    {
     "data": {
      "text/html": [
       "<div>\n",
       "<style scoped>\n",
       "    .dataframe tbody tr th:only-of-type {\n",
       "        vertical-align: middle;\n",
       "    }\n",
       "\n",
       "    .dataframe tbody tr th {\n",
       "        vertical-align: top;\n",
       "    }\n",
       "\n",
       "    .dataframe thead th {\n",
       "        text-align: right;\n",
       "    }\n",
       "</style>\n",
       "<table border=\"1\" class=\"dataframe\">\n",
       "  <thead>\n",
       "    <tr style=\"text-align: right;\">\n",
       "      <th></th>\n",
       "      <th>raceId</th>\n",
       "      <th>year</th>\n",
       "      <th>name</th>\n",
       "      <th>date</th>\n",
       "      <th>count_constructor</th>\n",
       "    </tr>\n",
       "  </thead>\n",
       "  <tbody>\n",
       "    <tr>\n",
       "      <th>74</th>\n",
       "      <td>834</td>\n",
       "      <td>1950</td>\n",
       "      <td>Monaco Grand Prix</td>\n",
       "      <td>1950-05-21</td>\n",
       "      <td>3</td>\n",
       "    </tr>\n",
       "    <tr>\n",
       "      <th>75</th>\n",
       "      <td>836</td>\n",
       "      <td>1950</td>\n",
       "      <td>Swiss Grand Prix</td>\n",
       "      <td>1950-06-04</td>\n",
       "      <td>3</td>\n",
       "    </tr>\n",
       "    <tr>\n",
       "      <th>76</th>\n",
       "      <td>837</td>\n",
       "      <td>1950</td>\n",
       "      <td>Belgian Grand Prix</td>\n",
       "      <td>1950-06-18</td>\n",
       "      <td>3</td>\n",
       "    </tr>\n",
       "    <tr>\n",
       "      <th>77</th>\n",
       "      <td>839</td>\n",
       "      <td>1950</td>\n",
       "      <td>Italian Grand Prix</td>\n",
       "      <td>1950-09-03</td>\n",
       "      <td>3</td>\n",
       "    </tr>\n",
       "    <tr>\n",
       "      <th>71</th>\n",
       "      <td>826</td>\n",
       "      <td>1951</td>\n",
       "      <td>Indianapolis 500</td>\n",
       "      <td>1951-05-30</td>\n",
       "      <td>3</td>\n",
       "    </tr>\n",
       "    <tr>\n",
       "      <th>72</th>\n",
       "      <td>827</td>\n",
       "      <td>1951</td>\n",
       "      <td>Belgian Grand Prix</td>\n",
       "      <td>1951-06-17</td>\n",
       "      <td>3</td>\n",
       "    </tr>\n",
       "    <tr>\n",
       "      <th>73</th>\n",
       "      <td>829</td>\n",
       "      <td>1951</td>\n",
       "      <td>British Grand Prix</td>\n",
       "      <td>1951-07-14</td>\n",
       "      <td>3</td>\n",
       "    </tr>\n",
       "    <tr>\n",
       "      <th>67</th>\n",
       "      <td>818</td>\n",
       "      <td>1952</td>\n",
       "      <td>Indianapolis 500</td>\n",
       "      <td>1952-05-30</td>\n",
       "      <td>3</td>\n",
       "    </tr>\n",
       "    <tr>\n",
       "      <th>68</th>\n",
       "      <td>820</td>\n",
       "      <td>1952</td>\n",
       "      <td>French Grand Prix</td>\n",
       "      <td>1952-07-06</td>\n",
       "      <td>3</td>\n",
       "    </tr>\n",
       "    <tr>\n",
       "      <th>69</th>\n",
       "      <td>821</td>\n",
       "      <td>1952</td>\n",
       "      <td>British Grand Prix</td>\n",
       "      <td>1952-07-19</td>\n",
       "      <td>3</td>\n",
       "    </tr>\n",
       "  </tbody>\n",
       "</table>\n",
       "</div>"
      ],
      "text/plain": [
       "    raceId  year                name        date  count_constructor\n",
       "74     834  1950   Monaco Grand Prix  1950-05-21                  3\n",
       "75     836  1950    Swiss Grand Prix  1950-06-04                  3\n",
       "76     837  1950  Belgian Grand Prix  1950-06-18                  3\n",
       "77     839  1950  Italian Grand Prix  1950-09-03                  3\n",
       "71     826  1951    Indianapolis 500  1951-05-30                  3\n",
       "72     827  1951  Belgian Grand Prix  1951-06-17                  3\n",
       "73     829  1951  British Grand Prix  1951-07-14                  3\n",
       "67     818  1952    Indianapolis 500  1952-05-30                  3\n",
       "68     820  1952   French Grand Prix  1952-07-06                  3\n",
       "69     821  1952  British Grand Prix  1952-07-19                  3"
      ]
     },
     "execution_count": 110,
     "metadata": {},
     "output_type": "execute_result"
    }
   ],
   "source": [
    "report_2_df.head(10)"
   ]
  },
  {
   "cell_type": "code",
   "execution_count": 111,
   "metadata": {},
   "outputs": [],
   "source": [
    "report_2_df.to_excel('reports/report2.xlsx', header=True, index=False)"
   ]
  }
 ],
 "metadata": {
  "kernelspec": {
   "display_name": "Python 3",
   "language": "python",
   "name": "python3"
  },
  "language_info": {
   "codemirror_mode": {
    "name": "ipython",
    "version": 3
   },
   "file_extension": ".py",
   "mimetype": "text/x-python",
   "name": "python",
   "nbconvert_exporter": "python",
   "pygments_lexer": "ipython3",
   "version": "3.5.5"
  }
 },
 "nbformat": 4,
 "nbformat_minor": 2
}
